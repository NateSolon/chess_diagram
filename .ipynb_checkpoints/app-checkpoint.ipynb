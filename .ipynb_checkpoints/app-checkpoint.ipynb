{
 "cells": [
  {
   "cell_type": "code",
   "execution_count": 1,
   "metadata": {},
   "outputs": [],
   "source": [
    "from fastai2.vision.all import *\n",
    "from fastai2.vision.widgets import *\n",
    "import chess\n",
    "from utils import *"
   ]
  },
  {
   "cell_type": "code",
   "execution_count": 9,
   "metadata": {},
   "outputs": [],
   "source": [
    "def predict_board(img):\n",
    "    h,w = img.shape\n",
    "    item_list = []\n",
    "    for y in range(8):\n",
    "        for x in range(8):\n",
    "            box = (x*w/8, y*h/8, (x+1)*w/8, (y+1)*h/8 ) # left, top, right, bottom\n",
    "            cropped = img.crop(box)\n",
    "            square = PILImage.create(cropped.to_bytes_format())\n",
    "            item_list.append(square) \n",
    "\n",
    "    dl = learner.dls.test_dl(item_list)\n",
    "    _, __, preds = learner.get_preds(dl=dl, with_decoded=True)\n",
    "    preds = [classes[pred] for pred in preds]\n",
    "    labels = ''.join([label_lib[pred] for pred in preds])\n",
    "    fen = label2fen(labels)\n",
    "    \n",
    "    return fen"
   ]
  },
  {
   "cell_type": "code",
   "execution_count": 10,
   "metadata": {},
   "outputs": [],
   "source": [
    "learner = load_learner('lichess_finetuned.pkl')\n",
    "classes = learner.dls.vocab"
   ]
  },
  {
   "cell_type": "code",
   "execution_count": 11,
   "metadata": {},
   "outputs": [],
   "source": [
    "uploader = widgets.FileUpload()\n",
    "out_pl = widgets.Output()\n",
    "lbl_fen = widgets.Label()\n",
    "btn_run = widgets.Button(description='Get position')"
   ]
  },
  {
   "cell_type": "code",
   "execution_count": 12,
   "metadata": {},
   "outputs": [],
   "source": [
    "def on_click_classify(change):\n",
    "    img = PILImage.create(uploader.data[-1])\n",
    "    out_pl.clear_output()\n",
    "    with out_pl: display(img.to_thumb(128,128))\n",
    "    fen = predict_board(img)\n",
    "    lbl_fen.value = fen\n",
    "\n",
    "btn_run.on_click(on_click_classify)"
   ]
  },
  {
   "cell_type": "code",
   "execution_count": 13,
   "metadata": {
    "scrolled": true
   },
   "outputs": [
    {
     "data": {
      "application/vnd.jupyter.widget-view+json": {
       "model_id": "dee244afc2ed4b9d81e9e64b70cf1161",
       "version_major": 2,
       "version_minor": 0
      },
      "text/plain": [
       "VBox(children=(Label(value='Upload chess diagram'), FileUpload(value={}, description='Upload'), Button(descrip…"
      ]
     },
     "metadata": {},
     "output_type": "display_data"
    },
    {
     "data": {
      "text/html": [],
      "text/plain": [
       "<IPython.core.display.HTML object>"
      ]
     },
     "metadata": {},
     "output_type": "display_data"
    }
   ],
   "source": [
    "#hide_output\n",
    "VBox([widgets.Label('Upload chess diagram'), \n",
    "      uploader, btn_run, lbl_fen])"
   ]
  },
  {
   "cell_type": "code",
   "execution_count": null,
   "metadata": {},
   "outputs": [],
   "source": []
  }
 ],
 "metadata": {
  "kernelspec": {
   "display_name": "Python 3",
   "language": "python",
   "name": "python3"
  },
  "language_info": {
   "codemirror_mode": {
    "name": "ipython",
    "version": 3
   },
   "file_extension": ".py",
   "mimetype": "text/x-python",
   "name": "python",
   "nbconvert_exporter": "python",
   "pygments_lexer": "ipython3",
   "version": "3.7.6"
  }
 },
 "nbformat": 4,
 "nbformat_minor": 4
}
