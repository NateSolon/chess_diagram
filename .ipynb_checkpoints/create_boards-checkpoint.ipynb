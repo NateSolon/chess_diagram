{
 "cells": [
  {
   "cell_type": "code",
   "execution_count": 50,
   "metadata": {},
   "outputs": [],
   "source": [
    "import chess\n",
    "import random\n",
    "from IPython.display import display\n",
    "from cairosvg import svg2png"
   ]
  },
  {
   "cell_type": "code",
   "execution_count": 5,
   "metadata": {},
   "outputs": [],
   "source": [
    "%load_ext autoreload\n",
    "%autoreload 2"
   ]
  },
  {
   "cell_type": "code",
   "execution_count": 51,
   "metadata": {},
   "outputs": [],
   "source": [
    "def fen2label(fen):\n",
    "    fen = fen.replace('/', '')\n",
    "    label = ''\n",
    "    for ch in fen:\n",
    "        if ch.isnumeric():\n",
    "            label += '_' * int(ch)\n",
    "        else:\n",
    "            label += ch\n",
    "    return label"
   ]
  },
  {
   "cell_type": "code",
   "execution_count": 53,
   "metadata": {},
   "outputs": [],
   "source": [
    "board = chess.Board()\n",
    "\n",
    "for i in range(10):\n",
    "    move = random.choice(list(board.legal_moves))\n",
    "    board.push(move)\n",
    "    fen = board.fen().split(' ')[0]\n",
    "    label = fen2label(fen)\n",
    "    svg = chess.svg.board(board)\n",
    "    fname = label + '.png'\n",
    "    cairosvg.svg2png(bytestring=svg,write_to=fname)"
   ]
  },
  {
   "cell_type": "code",
   "execution_count": null,
   "metadata": {},
   "outputs": [],
   "source": []
  }
 ],
 "metadata": {
  "kernelspec": {
   "display_name": "Python 3",
   "language": "python",
   "name": "python3"
  },
  "language_info": {
   "codemirror_mode": {
    "name": "ipython",
    "version": 3
   },
   "file_extension": ".py",
   "mimetype": "text/x-python",
   "name": "python",
   "nbconvert_exporter": "python",
   "pygments_lexer": "ipython3",
   "version": "3.7.4"
  }
 },
 "nbformat": 4,
 "nbformat_minor": 2
}
