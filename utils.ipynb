{
 "cells": [
  {
   "cell_type": "code",
   "execution_count": 1,
   "metadata": {},
   "outputs": [],
   "source": [
    "def fen2label(fen):\n",
    "    fen = fen.replace('/', '')\n",
    "    label = ''\n",
    "    for ch in fen:\n",
    "        if ch.isnumeric():\n",
    "            label += '_' * int(ch)\n",
    "        else:\n",
    "            label += ch\n",
    "    return label"
   ]
  },
  {
   "cell_type": "code",
   "execution_count": 5,
   "metadata": {},
   "outputs": [
    {
     "data": {
      "text/plain": [
       "'rnbqkbnrpppppppp________________________________PPPPPPPPRNBQKBNR'"
      ]
     },
     "execution_count": 5,
     "metadata": {},
     "output_type": "execute_result"
    }
   ],
   "source": [
    "fen2label('rnbqkbnr/pppppppp/8/8/8/8/PPPPPPPP/RNBQKBNR')"
   ]
  },
  {
   "cell_type": "code",
   "execution_count": 16,
   "metadata": {},
   "outputs": [],
   "source": [
    "def label2fen(label):\n",
    "    ranks = [trans_rank(label[i:i+8]) for i in range(0, 64, 8)]\n",
    "    return '/'.join(ranks)"
   ]
  },
  {
   "cell_type": "code",
   "execution_count": 20,
   "metadata": {},
   "outputs": [
    {
     "data": {
      "text/plain": [
       "'rnbqkbnr/pppppppp/8/8/8/8/PPPPPPPP/RNBQKBNR'"
      ]
     },
     "execution_count": 20,
     "metadata": {},
     "output_type": "execute_result"
    }
   ],
   "source": [
    "label2fen('rnbqkbnrpppppppp________________________________PPPPPPPPRNBQKBNR')"
   ]
  },
  {
   "cell_type": "code",
   "execution_count": 18,
   "metadata": {},
   "outputs": [],
   "source": [
    "def trans_rank(rank):\n",
    "    new_rank = ''\n",
    "    empty_counter = 0\n",
    "    for ch in rank:\n",
    "        if ch == '_':\n",
    "            empty_counter+=1\n",
    "        else:\n",
    "            if empty_counter>0:\n",
    "                new_rank += str(empty_counter)\n",
    "                empty_counter = 0\n",
    "            new_rank += ch\n",
    "    if empty_counter > 0:\n",
    "        new_rank += str(empty_counter)\n",
    "    return new_rank"
   ]
  },
  {
   "cell_type": "code",
   "execution_count": 22,
   "metadata": {},
   "outputs": [
    {
     "data": {
      "text/plain": [
       "'rnbqkbnrpp_ppppp__________p_________P___________PPPP_PPPRNBQKBNR'"
      ]
     },
     "execution_count": 22,
     "metadata": {},
     "output_type": "execute_result"
    }
   ],
   "source": [
    "fen2label('rnbqkbnr/pp1ppppp/8/2p5/4P3/8/PPPP1PPP/RNBQKBNR')"
   ]
  },
  {
   "cell_type": "code",
   "execution_count": 23,
   "metadata": {},
   "outputs": [
    {
     "data": {
      "text/plain": [
       "'rnbqkbnr/pp1ppppp/8/2p5/4P3/8/PPPP1PPP/RNBQKBNR'"
      ]
     },
     "execution_count": 23,
     "metadata": {},
     "output_type": "execute_result"
    }
   ],
   "source": [
    "label2fen('rnbqkbnrpp_ppppp__________p_________P___________PPPP_PPPRNBQKBNR')"
   ]
  },
  {
   "cell_type": "markdown",
   "metadata": {},
   "source": []
  }
 ],
 "metadata": {
  "kernelspec": {
   "display_name": "Python 3",
   "language": "python",
   "name": "python3"
  },
  "language_info": {
   "codemirror_mode": {
    "name": "ipython",
    "version": 3
   },
   "file_extension": ".py",
   "mimetype": "text/x-python",
   "name": "python",
   "nbconvert_exporter": "python",
   "pygments_lexer": "ipython3",
   "version": "3.8.5"
  }
 },
 "nbformat": 4,
 "nbformat_minor": 2
}
