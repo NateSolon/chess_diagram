{
 "cells": [
  {
   "cell_type": "code",
   "execution_count": 1,
   "metadata": {},
   "outputs": [],
   "source": [
    "from fastai.vision.all import *\n",
    "from fastai.vision.widgets import *\n",
    "import chess\n",
    "from chess import svg\n",
    "from utils import *\n",
    "from cairosvg import svg2png"
   ]
  },
  {
   "cell_type": "code",
   "execution_count": 2,
   "metadata": {},
   "outputs": [],
   "source": [
    "learner = load_learner('latest.pkl')\n",
    "classes = learner.dls.vocab"
   ]
  },
  {
   "cell_type": "code",
   "execution_count": 3,
   "metadata": {},
   "outputs": [],
   "source": [
    "def predict_board(img):\n",
    "    h,w = img.shape\n",
    "    item_list = []\n",
    "    for y in range(8):\n",
    "        for x in range(8):\n",
    "            box = (x*w/8, y*h/8, (x+1)*w/8, (y+1)*h/8) # left, top, right, bottom\n",
    "            cropped = img.crop(box)\n",
    "            square = PILImage.create(cropped.to_bytes_format())\n",
    "            item_list.append(square) \n",
    "\n",
    "    dl = learner.dls.test_dl(item_list)\n",
    "    _, __, preds = learner.get_preds(dl=dl, with_decoded=True)\n",
    "    preds = [classes[p] for p in preds]\n",
    "    labels = ''.join([label_lib[p] for p in preds])\n",
    "    fen = label2fen(labels)\n",
    "    \n",
    "    return fen"
   ]
  },
  {
   "cell_type": "code",
   "execution_count": 4,
   "metadata": {},
   "outputs": [],
   "source": [
    "def make_png(fen):\n",
    "    board = chess.Board(fen)\n",
    "    board_svg = svg.board(board)\n",
    "    png = svg2png(bytestring=board_svg)\n",
    "    return png"
   ]
  },
  {
   "cell_type": "code",
   "execution_count": 5,
   "metadata": {},
   "outputs": [],
   "source": [
    "uploader = widgets.FileUpload()\n",
    "lbl_fen = widgets.Label()\n",
    "btn_run = widgets.Button(description='Recognize position')\n",
    "board_img = widgets.Image(format='png', height=300, width=300)\n",
    "file = open('starting_position.png', 'rb')\n",
    "image = file.read()\n",
    "board_img.value = image"
   ]
  },
  {
   "cell_type": "code",
   "execution_count": 6,
   "metadata": {},
   "outputs": [],
   "source": [
    "def on_click(change):\n",
    "    img = Image.open(uploader.data[-1])\n",
    "    fen = predict_board(img)\n",
    "    lbl_fen.value = fen\n",
    "    board_img.value = make_png(fen)\n",
    "\n",
    "btn_run.on_click(on_click)"
   ]
  },
  {
   "cell_type": "code",
   "execution_count": 7,
   "metadata": {
    "scrolled": true
   },
   "outputs": [
    {
     "data": {
      "application/vnd.jupyter.widget-view+json": {
       "model_id": "fb6c6851b9df4fc1be4d3cccb873d2fc",
       "version_major": 2,
       "version_minor": 0
      },
      "text/plain": [
       "VBox(children=(Label(value='Upload chess diagram'), FileUpload(value={}, description='Upload'), Button(descrip…"
      ]
     },
     "metadata": {},
     "output_type": "display_data"
    }
   ],
   "source": [
    "VBox([widgets.Label('Upload chess diagram'), \n",
    "      uploader, btn_run, lbl_fen, board_img])"
   ]
  },
  {
   "cell_type": "code",
   "execution_count": null,
   "metadata": {},
   "outputs": [],
   "source": []
  }
 ],
 "metadata": {
  "kernelspec": {
   "display_name": "Python 3",
   "language": "python",
   "name": "python3"
  },
  "language_info": {
   "codemirror_mode": {
    "name": "ipython",
    "version": 3
   },
   "file_extension": ".py",
   "mimetype": "text/x-python",
   "name": "python",
   "nbconvert_exporter": "python",
   "pygments_lexer": "ipython3",
   "version": "3.8.5"
  }
 },
 "nbformat": 4,
 "nbformat_minor": 4
}
