{
 "cells": [
  {
   "cell_type": "code",
   "execution_count": 56,
   "metadata": {},
   "outputs": [],
   "source": [
    "import chess\n",
    "import random\n",
    "from cairosvg import svg2png"
   ]
  },
  {
   "cell_type": "code",
   "execution_count": 57,
   "metadata": {},
   "outputs": [],
   "source": [
    "def fen2label(fen):\n",
    "    fen = fen.replace('/', '')\n",
    "    label = ''\n",
    "    for ch in fen:\n",
    "        if ch.isnumeric():\n",
    "            label += '_' * int(ch)\n",
    "        else:\n",
    "            label += ch\n",
    "    return label"
   ]
  },
  {
   "cell_type": "code",
   "execution_count": 59,
   "metadata": {},
   "outputs": [],
   "source": [
    "for i in range(10):\n",
    "    board = chess.Board()\n",
    "    for j in range(100):\n",
    "        if board.is_checkmate(): continue\n",
    "        move = random.choice(list(board.legal_moves))\n",
    "        board.push(move)\n",
    "        fen = board.fen().split(' ')[0]\n",
    "        label = fen2label(fen)\n",
    "        svg = chess.svg.board(board)\n",
    "        fname = f'boards/{label}.png'\n",
    "        svg2png(bytestring=svg, write_to=fname)"
   ]
  },
  {
   "cell_type": "code",
   "execution_count": 62,
   "metadata": {},
   "outputs": [],
   "source": [
    "from os import listdir"
   ]
  },
  {
   "cell_type": "code",
   "execution_count": 63,
   "metadata": {},
   "outputs": [
    {
     "data": {
      "text/plain": [
       "999"
      ]
     },
     "execution_count": 63,
     "metadata": {},
     "output_type": "execute_result"
    }
   ],
   "source": [
    "len(listdir('boards'))"
   ]
  },
  {
   "cell_type": "code",
   "execution_count": null,
   "metadata": {},
   "outputs": [],
   "source": []
  }
 ],
 "metadata": {
  "kernelspec": {
   "display_name": "Python 3",
   "language": "python",
   "name": "python3"
  },
  "language_info": {
   "codemirror_mode": {
    "name": "ipython",
    "version": 3
   },
   "file_extension": ".py",
   "mimetype": "text/x-python",
   "name": "python",
   "nbconvert_exporter": "python",
   "pygments_lexer": "ipython3",
   "version": "3.7.6"
  }
 },
 "nbformat": 4,
 "nbformat_minor": 2
}
